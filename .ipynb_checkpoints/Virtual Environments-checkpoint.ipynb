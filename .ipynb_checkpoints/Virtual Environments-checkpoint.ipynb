{
 "cells": [
  {
   "cell_type": "code",
   "execution_count": 1,
   "id": "ceb8e0f5",
   "metadata": {},
   "outputs": [
    {
     "name": "stdout",
     "output_type": "stream",
     "text": [
      "Python 3.10.2 | packaged by conda-forge | (main, Jan 14 2022, 08:02:09) [GCC 9.4.0] on linux\n",
      "Type \"help\", \"copyright\", \"credits\" or \"license\" for more information.\n",
      ">>> \n",
      "Traceback (most recent call last):\n",
      "  File \"<stdin>\", line 1, in <module>\n",
      "KeyboardInterrupt\n",
      ">>> "
     ]
    }
   ],
   "source": [
    "!python"
   ]
  },
  {
   "cell_type": "code",
   "execution_count": 2,
   "id": "ff90fca8",
   "metadata": {},
   "outputs": [
    {
     "name": "stdout",
     "output_type": "stream",
     "text": [
      "/home/choksy/miniconda3/envs/quantori/bin/python\n"
     ]
    }
   ],
   "source": [
    "!which python"
   ]
  },
  {
   "cell_type": "code",
   "execution_count": 3,
   "id": "e4becfe2",
   "metadata": {},
   "outputs": [
    {
     "name": "stdout",
     "output_type": "stream",
     "text": [
      "argon2-cffi @ file:///home/conda/feedstock_root/build_artifacts/argon2-cffi_1640817743617/work\n",
      "argon2-cffi-bindings @ file:///home/conda/feedstock_root/build_artifacts/argon2-cffi-bindings_1640855147362/work\n",
      "asttokens @ file:///home/conda/feedstock_root/build_artifacts/asttokens_1618968359944/work\n",
      "attrs @ file:///home/conda/feedstock_root/build_artifacts/attrs_1640799537051/work\n",
      "backcall @ file:///home/conda/feedstock_root/build_artifacts/backcall_1592338393461/work\n",
      "backports.functools-lru-cache @ file:///home/conda/feedstock_root/build_artifacts/backports.functools_lru_cache_1618230623929/work\n",
      "black @ file:///home/conda/feedstock_root/build_artifacts/black-recipe_1639405010350/work\n",
      "bleach @ file:///home/conda/feedstock_root/build_artifacts/bleach_1629908509068/work\n",
      "certifi==2021.10.8\n",
      "cffi @ file:///home/conda/feedstock_root/build_artifacts/cffi_1636046050867/work\n",
      "click @ file:///home/conda/feedstock_root/build_artifacts/click_1635822579756/work\n",
      "cycler @ file:///home/conda/feedstock_root/build_artifacts/cycler_1635519461629/work\n",
      "dataclasses @ file:///home/conda/feedstock_root/build_artifacts/dataclasses_1628958434797/work\n",
      "debugpy @ file:///home/conda/feedstock_root/build_artifacts/debugpy_1636043255643/work\n",
      "decorator @ file:///home/conda/feedstock_root/build_artifacts/decorator_1641555617451/work\n",
      "defusedxml @ file:///home/conda/feedstock_root/build_artifacts/defusedxml_1615232257335/work\n",
      "entrypoints @ file:///home/conda/feedstock_root/build_artifacts/entrypoints_1605121927639/work/dist/entrypoints-0.3-py2.py3-none-any.whl\n",
      "executing @ file:///home/conda/feedstock_root/build_artifacts/executing_1633213722787/work\n",
      "Faker==11.3.0\n",
      "flit_core @ file:///home/conda/feedstock_root/build_artifacts/flit-core_1640697294996/work/source/flit_core\n",
      "fonttools @ file:///home/conda/feedstock_root/build_artifacts/fonttools_1643722419875/work\n",
      "greenlet @ file:///home/conda/feedstock_root/build_artifacts/greenlet_1635836776348/work\n",
      "importlib-metadata @ file:///home/conda/feedstock_root/build_artifacts/importlib-metadata_1642513920615/work\n",
      "importlib-resources @ file:///home/conda/feedstock_root/build_artifacts/importlib_resources_1635615662634/work\n",
      "ipykernel @ file:///home/conda/feedstock_root/build_artifacts/ipykernel_1642098122071/work/dist/ipykernel-6.7.0-py3-none-any.whl\n",
      "ipython @ file:///home/conda/feedstock_root/build_artifacts/ipython_1642613623173/work\n",
      "ipython-genutils==0.2.0\n",
      "jedi @ file:///home/conda/feedstock_root/build_artifacts/jedi_1637175074658/work\n",
      "Jinja2 @ file:///home/conda/feedstock_root/build_artifacts/jinja2_1636510082894/work\n",
      "json5 @ file:///home/conda/feedstock_root/build_artifacts/json5_1600692310011/work\n",
      "jsonschema @ file:///home/conda/feedstock_root/build_artifacts/jsonschema-meta_1642000296051/work\n",
      "jupyter-client @ file:///home/conda/feedstock_root/build_artifacts/jupyter_client_1642858610849/work\n",
      "jupyter-core @ file:///home/conda/feedstock_root/build_artifacts/jupyter_core_1636814267019/work\n",
      "jupyterlab==2.1.0\n",
      "jupyterlab-pygments @ file:///home/conda/feedstock_root/build_artifacts/jupyterlab_pygments_1601375948261/work\n",
      "jupyterlab-server @ file:///home/conda/feedstock_root/build_artifacts/jupyterlab_server_1589712729745/work\n",
      "kiwisolver @ file:///home/conda/feedstock_root/build_artifacts/kiwisolver_1635836708241/work\n",
      "MarkupSafe @ file:///home/conda/feedstock_root/build_artifacts/markupsafe_1635833552358/work\n",
      "matplotlib @ file:///home/conda/feedstock_root/build_artifacts/matplotlib-suite_1639358983313/work\n",
      "matplotlib-inline @ file:///home/conda/feedstock_root/build_artifacts/matplotlib-inline_1631080358261/work\n",
      "mistune @ file:///home/conda/feedstock_root/build_artifacts/mistune_1635844663025/work\n",
      "munkres==1.1.4\n",
      "mypy-extensions @ file:///home/conda/feedstock_root/build_artifacts/mypy_extensions_1635839673413/work\n",
      "nbclient @ file:///home/conda/feedstock_root/build_artifacts/nbclient_1642144614450/work\n",
      "nbconvert @ file:///home/conda/feedstock_root/build_artifacts/nbconvert_1643237859024/work\n",
      "nbformat @ file:///home/conda/feedstock_root/build_artifacts/nbformat_1617383142101/work\n",
      "nest-asyncio @ file:///home/conda/feedstock_root/build_artifacts/nest-asyncio_1638419302549/work\n",
      "notebook @ file:///home/conda/feedstock_root/build_artifacts/notebook_1643149609895/work\n",
      "numpy @ file:///home/conda/feedstock_root/build_artifacts/numpy_1643009179446/work\n",
      "packaging @ file:///home/conda/feedstock_root/build_artifacts/packaging_1637239678211/work\n",
      "pandas==1.4.0\n",
      "pandocfilters @ file:///home/conda/feedstock_root/build_artifacts/pandocfilters_1631603243851/work\n",
      "parso @ file:///home/conda/feedstock_root/build_artifacts/parso_1638334955874/work\n",
      "pathspec @ file:///home/conda/feedstock_root/build_artifacts/pathspec_1626613672358/work\n",
      "patsy @ file:///home/conda/feedstock_root/build_artifacts/patsy_1632667180946/work\n",
      "pexpect @ file:///home/conda/feedstock_root/build_artifacts/pexpect_1602535608087/work\n",
      "pickleshare @ file:///home/conda/feedstock_root/build_artifacts/pickleshare_1602536217715/work\n",
      "Pillow @ file:///home/conda/feedstock_root/build_artifacts/pillow_1644498917230/work\n",
      "platformdirs @ file:///home/conda/feedstock_root/build_artifacts/platformdirs_1630400214373/work\n",
      "prometheus-client @ file:///home/conda/feedstock_root/build_artifacts/prometheus_client_1643149052602/work\n",
      "prompt-toolkit @ file:///home/conda/feedstock_root/build_artifacts/prompt-toolkit_1639065841292/work\n",
      "psycopg2 @ file:///home/conda/feedstock_root/build_artifacts/psycopg2-split_1640944506498/work\n",
      "ptyprocess @ file:///home/conda/feedstock_root/build_artifacts/ptyprocess_1609419310487/work/dist/ptyprocess-0.7.0-py2.py3-none-any.whl\n",
      "pure-eval @ file:///home/conda/feedstock_root/build_artifacts/pure_eval_1642875951954/work\n",
      "pycparser @ file:///home/conda/feedstock_root/build_artifacts/pycparser_1636257122734/work\n",
      "Pygments @ file:///home/conda/feedstock_root/build_artifacts/pygments_1641580240686/work\n",
      "pyparsing @ file:///home/conda/feedstock_root/build_artifacts/pyparsing_1642753572664/work\n",
      "PyQt5==5.12.3\n",
      "PyQt5_sip==4.19.18\n",
      "PyQtChart==5.12\n",
      "PyQtWebEngine==5.12.1\n",
      "pyrsistent @ file:///home/conda/feedstock_root/build_artifacts/pyrsistent_1642534364893/work\n",
      "python-dateutil @ file:///home/conda/feedstock_root/build_artifacts/python-dateutil_1626286286081/work\n",
      "pytz @ file:///home/conda/feedstock_root/build_artifacts/pytz_1633452062248/work\n",
      "pyzmq @ file:///home/conda/feedstock_root/build_artifacts/pyzmq_1635877336018/work\n",
      "scipy @ file:///home/conda/feedstock_root/build_artifacts/scipy_1644357243513/work\n",
      "seaborn @ file:///home/conda/feedstock_root/build_artifacts/seaborn-split_1629095986539/work\n",
      "Send2Trash @ file:///home/conda/feedstock_root/build_artifacts/send2trash_1628511208346/work\n",
      "six @ file:///home/conda/feedstock_root/build_artifacts/six_1620240208055/work\n",
      "SQLAlchemy @ file:///home/conda/feedstock_root/build_artifacts/sqlalchemy_1642761931476/work\n",
      "stack-data @ file:///home/conda/feedstock_root/build_artifacts/stack_data_1642255706390/work\n",
      "statsmodels @ file:///home/conda/feedstock_root/build_artifacts/statsmodels_1644535583699/work\n",
      "terminado @ file:///home/conda/feedstock_root/build_artifacts/terminado_1636052207439/work\n",
      "testpath @ file:///home/conda/feedstock_root/build_artifacts/testpath_1621261527237/work\n",
      "text-unidecode==1.3\n",
      "tomli @ file:///home/conda/feedstock_root/build_artifacts/tomli_1635181214134/work\n",
      "tornado @ file:///home/conda/feedstock_root/build_artifacts/tornado_1635819581833/work\n",
      "traitlets @ file:///home/conda/feedstock_root/build_artifacts/traitlets_1635260543454/work\n",
      "typed-ast @ file:///home/conda/feedstock_root/build_artifacts/typed-ast_1643045783245/work\n",
      "typing_extensions @ file:///home/conda/feedstock_root/build_artifacts/typing_extensions_1638334978229/work\n",
      "unicodedata2 @ file:///home/conda/feedstock_root/build_artifacts/unicodedata2_1640030999334/work\n",
      "wcwidth @ file:///home/conda/feedstock_root/build_artifacts/wcwidth_1600965781394/work\n",
      "webencodings==0.5.1\n",
      "zipp @ file:///home/conda/feedstock_root/build_artifacts/zipp_1641731510635/work\n"
     ]
    }
   ],
   "source": [
    "!pip freeze"
   ]
  },
  {
   "cell_type": "code",
   "execution_count": null,
   "id": "e7683844",
   "metadata": {},
   "outputs": [],
   "source": []
  },
  {
   "cell_type": "markdown",
   "id": "9131c459",
   "metadata": {},
   "source": [
    "fish - оболочка командной строки. \"Навертеть подсказки в терминал\" \n",
    "Гуглить fish for linux mint"
   ]
  },
  {
   "cell_type": "markdown",
   "id": "9cb3af09",
   "metadata": {},
   "source": [
    "supply chain injection"
   ]
  },
  {
   "cell_type": "markdown",
   "id": "9b7af57e",
   "metadata": {},
   "source": [
    "Техдирский чатик в телеге\n",
    "\n",
    "Обфускация\n",
    "\n",
    "Сергей Дегтярев\n",
    "To\n",
    "Everyone\n",
    "СД\n",
    "На мой взгляд, это не только беда opensource, скорее вендоринга вообще. Из недавнего можно вспомнить SolarWinds."
   ]
  },
  {
   "cell_type": "code",
   "execution_count": 27,
   "id": "73daaadc",
   "metadata": {},
   "outputs": [
    {
     "name": "stdout",
     "output_type": "stream",
     "text": [
      "True\n",
      "False\n",
      "[(1, 0)]\n",
      "current_point (0, 0)\n",
      "[[(0, 0), (1, 0)]]\n",
      "current_point (1, 0)\n"
     ]
    },
    {
     "data": {
      "text/plain": [
       "[(0, 0), (1, 0), (1, 1)]"
      ]
     },
     "execution_count": 27,
     "metadata": {},
     "output_type": "execute_result"
    }
   ],
   "source": [
    "\"\"\"\n",
    "Написать функцию get_path_{name} (например, get_path_roman_voronov)\n",
    "которая на вход получает:\n",
    "1) game_map - двумерный список карты, 0 - поле доступно, 1 - поле закрыто\n",
    "Пример: [[0, 1], [0, 0]]\n",
    "2) entrance - координаты на карте, начало пути, кортеж\n",
    "Пример: (0, 0)\n",
    "3) target - координаты на карте, конец пути, кортеж\n",
    "Пример: (1, 1)\n",
    "На выходе функции: КРАТЧАЙШИЙ путь от entrance до target списком.\n",
    "Ходить по закрытым полям запрещено.\n",
    "Пример: [(0, 0), (1, 0), (1, 1)]\n",
    "\"\"\"\n",
    "\n",
    "game_map, entrance, target = [[0, 1], [0, 0]], (0, 0), (1, 1)\n",
    "N = len(game_map)\n",
    "M = len(game_map[0])\n",
    "\n",
    "def is_cell_availabe(coords, game_map):\n",
    "    x, y = coords\n",
    "    return game_map[x][y] == 0\n",
    "\n",
    "def check_coord(coord, linear_size):\n",
    "    return 0 <= coord < linear_size\n",
    "\n",
    "def get_available_neighbours(coords):\n",
    "    x, y = coords\n",
    "    new_coords = ((x - 1, y),\n",
    "                  (x + 1, y),\n",
    "                  (x, y + 1),\n",
    "                  (x, y - 1))\n",
    "    return [(new_x, new_y) for new_x, new_y in new_coords \n",
    "                           if check_coord(new_x, N) and check_coord(new_y, M)\n",
    "                           and is_cell_availabe((new_x, new_y), game_map)]\n",
    "    \n",
    "\n",
    "def get_path_oksana_antropova(game_map, entrance, target):\n",
    "    paths = [[entrance]]\n",
    "    while True:\n",
    "        new_paths = []\n",
    "        for path in paths:\n",
    "            current_point = path[-1]\n",
    "            print(\"current_point\", current_point)\n",
    "            next_points = get_available_neighbours(current_point)\n",
    "            if target in next_points:\n",
    "                return path + [(target)]\n",
    "            for point in next_points:\n",
    "                new_paths.append(path + [point])\n",
    "        print(new_paths)\n",
    "        paths = new_paths.copy()  \n",
    "\n",
    "print(is_cell_availabe((0, 0), game_map))\n",
    "print(check_coord(2, 2))\n",
    "print(get_available_neighbours((0, 0)))\n",
    "get_path_oksana_antropova([[0, 1], [0, 0]], (0, 0), (1, 1))"
   ]
  },
  {
   "cell_type": "code",
   "execution_count": null,
   "id": "aa14d195",
   "metadata": {},
   "outputs": [],
   "source": []
  }
 ],
 "metadata": {
  "kernelspec": {
   "display_name": "quantori_kernel",
   "language": "python",
   "name": "quantori_kernel"
  },
  "language_info": {
   "codemirror_mode": {
    "name": "ipython",
    "version": 3
   },
   "file_extension": ".py",
   "mimetype": "text/x-python",
   "name": "python",
   "nbconvert_exporter": "python",
   "pygments_lexer": "ipython3",
   "version": "3.10.2"
  }
 },
 "nbformat": 4,
 "nbformat_minor": 5
}
